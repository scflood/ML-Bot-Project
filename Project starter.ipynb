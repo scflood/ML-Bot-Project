{
 "cells": [
  {
   "cell_type": "code",
   "execution_count": 4,
   "metadata": {},
   "outputs": [],
   "source": [
    "import pandas as pd\n",
    "import numpy as np\n",
    "import os\n",
    "import Levenshtein as Lev\n",
    "from sklearn.utils import shuffle\n",
    "import datetime as dt\n",
    "import editdistance\n"
   ]
  },
  {
   "cell_type": "code",
   "execution_count": 6,
   "metadata": {},
   "outputs": [
    {
     "name": "stdout",
     "output_type": "stream",
     "text": [
      "<class 'pandas.core.frame.DataFrame'>\n",
      "RangeIndex: 203451 entries, 0 to 203450\n",
      "Data columns (total 16 columns):\n",
      " #   Column                 Non-Null Count   Dtype \n",
      "---  ------                 --------------   ----- \n",
      " 0   user_id                203451 non-null  object\n",
      " 1   user_key               203451 non-null  object\n",
      " 2   created_at             203451 non-null  object\n",
      " 3   created_str            203451 non-null  object\n",
      " 4   retweet_count          203451 non-null  object\n",
      " 5   retweeted              203451 non-null  object\n",
      " 6   favorite_count         203451 non-null  object\n",
      " 7   text                   203451 non-null  object\n",
      " 8   tweet_id               203451 non-null  object\n",
      " 9   source                 203451 non-null  object\n",
      " 10  hashtags               203451 non-null  object\n",
      " 11  expanded_urls          203451 non-null  object\n",
      " 12  posted                 203451 non-null  object\n",
      " 13  mentions               203451 non-null  object\n",
      " 14  retweeted_status_id    203451 non-null  object\n",
      " 15  in_reply_to_status_id  203451 non-null  object\n",
      "dtypes: object(16)\n",
      "memory usage: 24.8+ MB\n"
     ]
    }
   ],
   "source": [
    "rus_tweets = pd.read_csv('tweets.csv', na_filter=False)\n",
    "rus_tweets.info()"
   ]
  },
  {
   "cell_type": "code",
   "execution_count": 7,
   "metadata": {},
   "outputs": [],
   "source": [
    "samp_rus_tweets = rus_tweets[0:10]\n",
    "samp_rus_tweets = samp_rus_tweets['text']\n",
    "samp_rus_tweets = samp_rus_tweets.str.replace(' ','')\n",
    "samp_rus_tweets = samp_rus_tweets.str.replace('RT@','')"
   ]
  },
  {
   "cell_type": "code",
   "execution_count": 8,
   "metadata": {},
   "outputs": [
    {
     "data": {
      "text/plain": [
       "0           #ThingsDoneByMistakekissingauntieinthelips\n",
       "1    mc_derpin:#TheOlderWeGetthemorepessimisticwear...\n",
       "2    dmataconis:ReadyToFeelLikeAFailure?JoanOfArcWa...\n",
       "3        Amen!#blacklivesmatterhttps://t.co/wGffaOqgzl\n",
       "4    NahBabyNah:Twitchy:ChuckToddcaughtoutthereshil...\n",
       "5    mcicero10:#BernieSanders#Trumppeopleshouldrall...\n",
       "6    ItsJustJaynie:@HillaryClintonTheundecidedvoter...\n",
       "7                               @TodayCleveland'noway'\n",
       "8    @NickTomaWBREHi,Nick!We'reholdinga\"MinersforTr...\n",
       "9       What.Is.A.Resolution#My4WordNewYearsResolution\n",
       "Name: text, dtype: object"
      ]
     },
     "execution_count": 8,
     "metadata": {},
     "output_type": "execute_result"
    }
   ],
   "source": [
    "samp_rus_tweets\n"
   ]
  },
  {
   "cell_type": "code",
   "execution_count": 9,
   "metadata": {},
   "outputs": [],
   "source": [
    "from itertools import product\n",
    "dist = np.empty(samp_rus_tweets.shape[0]**2, dtype=int)\n",
    "for i, x in enumerate(product(samp_rus_tweets, repeat=2)):\n",
    "     dist[i] = editdistance.eval(*x)\n",
    "dist_df = pd.DataFrame(dist.reshape(-1, samp_rus_tweets.shape[0]))"
   ]
  },
  {
   "cell_type": "code",
   "execution_count": 10,
   "metadata": {},
   "outputs": [
    {
     "name": "stdout",
     "output_type": "stream",
     "text": [
      "     0   1   2   3    4    5    6    7    8    9\n",
      "0    0  59  85  41  102   85   78   35  103   40\n",
      "1   59   0  73  47   95   83   78   63   91   60\n",
      "2   85  73   0  80   90   95   88   89   92   84\n",
      "3   41  47  80   0   98   93   79   37   96   46\n",
      "4  102  95  90  98    0  106  103  107  100  105\n",
      "5   85  83  95  93  106    0   91   98   99   93\n",
      "6   78  78  88  79  103   91    0   82  103   80\n",
      "7   35  63  89  37  107   98   82    0  109   40\n",
      "8  103  91  92  96  100   99  103  109    0  105\n",
      "9   40  60  84  46  105   93   80   40  105    0\n"
     ]
    }
   ],
   "source": [
    "print(dist_df)"
   ]
  },
  {
   "cell_type": "code",
   "execution_count": null,
   "metadata": {},
   "outputs": [],
   "source": []
  }
 ],
 "metadata": {
  "kernelspec": {
   "display_name": "Python 3",
   "language": "python",
   "name": "python3"
  },
  "language_info": {
   "codemirror_mode": {
    "name": "ipython",
    "version": 3
   },
   "file_extension": ".py",
   "mimetype": "text/x-python",
   "name": "python",
   "nbconvert_exporter": "python",
   "pygments_lexer": "ipython3",
   "version": "3.8.3"
  }
 },
 "nbformat": 4,
 "nbformat_minor": 4
}
