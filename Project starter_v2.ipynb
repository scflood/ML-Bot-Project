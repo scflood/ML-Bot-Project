{
 "cells": [
  {
   "cell_type": "code",
   "execution_count": 1,
   "metadata": {},
   "outputs": [],
   "source": [
    "import pandas as pd\n",
    "import numpy as np\n",
    "import os\n",
    "import Levenshtein as Lev\n",
    "from sklearn.utils import shuffle\n",
    "import datetime as dt\n",
    "import editdistance\n"
   ]
  },
  {
   "cell_type": "code",
   "execution_count": 2,
   "metadata": {},
   "outputs": [
    {
     "name": "stdout",
     "output_type": "stream",
     "text": [
      "<class 'pandas.core.frame.DataFrame'>\n",
      "RangeIndex: 203451 entries, 0 to 203450\n",
      "Data columns (total 16 columns):\n",
      " #   Column                 Non-Null Count   Dtype \n",
      "---  ------                 --------------   ----- \n",
      " 0   user_id                203451 non-null  object\n",
      " 1   user_key               203451 non-null  object\n",
      " 2   created_at             203451 non-null  object\n",
      " 3   created_str            203451 non-null  object\n",
      " 4   retweet_count          203451 non-null  object\n",
      " 5   retweeted              203451 non-null  object\n",
      " 6   favorite_count         203451 non-null  object\n",
      " 7   text                   203451 non-null  object\n",
      " 8   tweet_id               203451 non-null  object\n",
      " 9   source                 203451 non-null  object\n",
      " 10  hashtags               203451 non-null  object\n",
      " 11  expanded_urls          203451 non-null  object\n",
      " 12  posted                 203451 non-null  object\n",
      " 13  mentions               203451 non-null  object\n",
      " 14  retweeted_status_id    203451 non-null  object\n",
      " 15  in_reply_to_status_id  203451 non-null  object\n",
      "dtypes: object(16)\n",
      "memory usage: 24.8+ MB\n"
     ]
    }
   ],
   "source": [
    "rus_tweets = pd.read_csv('tweets.csv', na_filter=False)\n",
    "rus_tweets.info()"
   ]
  },
  {
   "cell_type": "code",
   "execution_count": 3,
   "metadata": {},
   "outputs": [],
   "source": [
    "samp_rus_tweets = rus_tweets[0:10]\n",
    "samp_rus_tweets = samp_rus_tweets['text']\n",
    "samp_rus_tweets = samp_rus_tweets.str.replace(' ','')\n",
    "samp_rus_tweets = samp_rus_tweets.str.replace('RT@','')"
   ]
  },
  {
   "cell_type": "code",
   "execution_count": 4,
   "metadata": {},
   "outputs": [
    {
     "data": {
      "text/plain": [
       "0           #ThingsDoneByMistakekissingauntieinthelips\n",
       "1    mc_derpin:#TheOlderWeGetthemorepessimisticwear...\n",
       "2    dmataconis:ReadyToFeelLikeAFailure?JoanOfArcWa...\n",
       "3        Amen!#blacklivesmatterhttps://t.co/wGffaOqgzl\n",
       "4    NahBabyNah:Twitchy:ChuckToddcaughtoutthereshil...\n",
       "5    mcicero10:#BernieSanders#Trumppeopleshouldrall...\n",
       "6    ItsJustJaynie:@HillaryClintonTheundecidedvoter...\n",
       "7                               @TodayCleveland'noway'\n",
       "8    @NickTomaWBREHi,Nick!We'reholdinga\"MinersforTr...\n",
       "9       What.Is.A.Resolution#My4WordNewYearsResolution\n",
       "Name: text, dtype: object"
      ]
     },
     "execution_count": 4,
     "metadata": {},
     "output_type": "execute_result"
    }
   ],
   "source": [
    "samp_rus_tweets\n"
   ]
  },
  {
   "cell_type": "code",
   "execution_count": 5,
   "metadata": {},
   "outputs": [],
   "source": [
    "from itertools import product\n",
    "dist = np.empty(samp_rus_tweets.shape[0]**2, dtype=int)\n",
    "for i, x in enumerate(product(samp_rus_tweets, repeat=2)):\n",
    "     dist[i] = editdistance.eval(*x)\n",
    "dist_df = pd.DataFrame(dist.reshape(-1, samp_rus_tweets.shape[0]))"
   ]
  },
  {
   "cell_type": "code",
   "execution_count": 6,
   "metadata": {},
   "outputs": [
    {
     "name": "stdout",
     "output_type": "stream",
     "text": [
      "     0   1   2   3    4    5    6    7    8    9\n",
      "0    0  59  85  41  102   85   78   35  103   40\n",
      "1   59   0  73  47   95   83   78   63   91   60\n",
      "2   85  73   0  80   90   95   88   89   92   84\n",
      "3   41  47  80   0   98   93   79   37   96   46\n",
      "4  102  95  90  98    0  106  103  107  100  105\n",
      "5   85  83  95  93  106    0   91   98   99   93\n",
      "6   78  78  88  79  103   91    0   82  103   80\n",
      "7   35  63  89  37  107   98   82    0  109   40\n",
      "8  103  91  92  96  100   99  103  109    0  105\n",
      "9   40  60  84  46  105   93   80   40  105    0\n"
     ]
    }
   ],
   "source": [
    "print(dist_df)"
   ]
  },
  {
   "cell_type": "code",
   "execution_count": 7,
   "metadata": {},
   "outputs": [
    {
     "data": {
      "text/plain": [
       "74.11999999999999"
      ]
     },
     "execution_count": 7,
     "metadata": {},
     "output_type": "execute_result"
    }
   ],
   "source": [
    "mean_dist = dist_df.mean()\n",
    "mean_dist.mean()\n"
   ]
  },
  {
   "cell_type": "code",
   "execution_count": 16,
   "metadata": {},
   "outputs": [],
   "source": [
    "rus_user_list = []"
   ]
  },
  {
   "cell_type": "code",
   "execution_count": 8,
   "metadata": {},
   "outputs": [],
   "source": [
    "rus_tweets_sorted = rus_tweets.sort_values(by=['user_key'])\n",
    "rus_tweets_sorted = rus_tweets_sorted['text']\n",
    "rus_tweets_sorted = rus_tweets_sorted.str.replace(' ','')\n",
    "rus_tweets_sorted = rus_tweets_sorted.str.replace('RT@','')\n",
    "#sorted1 - sorted28 corresponds to user1 - user 28\n",
    "rus_tweets_sorted1 = rus_tweets_sorted[4171:4207]\n",
    "\n",
    "rus_tweets_sorted2 = rus_tweets_sorted[4208:4224]\n",
    "rus_tweets_sorted3 = rus_tweets_sorted[4225:4289]\n",
    "rus_tweets_sorted4 = rus_tweets_sorted[4290:4327]\n",
    "rus_tweets_sorted5 = rus_tweets_sorted[4328:4340]\n",
    "rus_tweets_sorted6 = rus_tweets_sorted[4341:4380]\n",
    "#rus_tweets_sorted7 = rus_tweets_sorted[4381:4381]\n",
    "rus_tweets_sorted8 = rus_tweets_sorted[4382:4432]\n",
    "rus_tweets_sorted9 = rus_tweets_sorted[4433:4434]\n",
    "rus_tweets_sorted10 = rus_tweets_sorted[4435:4487]\n",
    "rus_tweets_sorted11 = rus_tweets_sorted[4488:4892]\n",
    "rus_tweets_sorted12 = rus_tweets_sorted[4893:4908]\n",
    "rus_tweets_sorted13 = rus_tweets_sorted[4909:4932]"
   ]
  },
  {
   "cell_type": "code",
   "execution_count": 18,
   "metadata": {},
   "outputs": [],
   "source": [
    "rus_tweets_sorted14 = rus_tweets_sorted[4933:4941]\n",
    "rus_tweets_sorted15 = rus_tweets_sorted[4942:5015]\n",
    "rus_tweets_sorted16a = rus_tweets_sorted[5016:9284]\n",
    "rus_tweets_sorted16b = rus_tweets_sorted[9285:14284]\n",
    "#rus_tweets_sorted17 = rus_tweets_sorted[14285:14285]\n",
    "rus_tweets_sorted18 = rus_tweets_sorted[14286:14317]\n",
    "#rus_tweets_sorted19 = rus_tweets_sorted[14318:14318]\n",
    "rus_tweets_sorted20 = rus_tweets_sorted[14319:14469]\n",
    "rus_tweets_sorted21 = rus_tweets_sorted[14470:15814]\n",
    "rus_tweets_sorted22 = rus_tweets_sorted[15815:15899]\n",
    "rus_tweets_sorted23 = rus_tweets_sorted[15900:15902]\n",
    "rus_tweets_sorted24 = rus_tweets_sorted[15903:15939]\n",
    "#i think below is bad data\n",
    "#rus_tweets_sorted25 = rus_tweets_sorted[15940:15946]\n",
    "#rus_tweets_sorted26 = rus_tweets_sorted[15940:15946]\n",
    "#rus_tweets_sorted27 = rus_tweets_sorted[15940:15946]\n",
    "#rus_tweets_sorted28 = rus_tweets_sorted[15940:15946]\n",
    "rus_user_list.append(rus_tweets_sorted1)\n",
    "rus_user_list.append(rus_tweets_sorted2)\n",
    "rus_user_list.append(rus_tweets_sorted3)\n",
    "rus_user_list.append(rus_tweets_sorted4)\n",
    "rus_user_list.append(rus_tweets_sorted5)\n",
    "rus_user_list.append(rus_tweets_sorted6)\n",
    "rus_user_list.append(rus_tweets_sorted8)\n",
    "rus_user_list.append(rus_tweets_sorted9)\n",
    "rus_user_list.append(rus_tweets_sorted10)\n",
    "rus_user_list.append(rus_tweets_sorted11)\n",
    "rus_user_list.append(rus_tweets_sorted12)\n",
    "rus_user_list.append(rus_tweets_sorted13)\n",
    "rus_user_list.append(rus_tweets_sorted14)\n",
    "rus_user_list.append(rus_tweets_sorted15)\n",
    "rus_user_list.append(rus_tweets_sorted16a)\n",
    "rus_user_list.append(rus_tweets_sorted16b)\n",
    "rus_user_list.append(rus_tweets_sorted18)\n",
    "rus_user_list.append(rus_tweets_sorted20)\n",
    "rus_user_list.append(rus_tweets_sorted21)\n",
    "rus_user_list.append(rus_tweets_sorted22)\n",
    "rus_user_list.append(rus_tweets_sorted23)\n",
    "rus_user_list.append(rus_tweets_sorted24)"
   ]
  },
  {
   "cell_type": "code",
   "execution_count": 10,
   "metadata": {},
   "outputs": [
    {
     "data": {
      "text/plain": [
       "86.42438271604937"
      ]
     },
     "execution_count": 10,
     "metadata": {},
     "output_type": "execute_result"
    }
   ],
   "source": [
    "dist = np.empty(rus_tweets_sorted1.shape[0]**2, dtype=int)\n",
    "for i, x in enumerate(product(rus_tweets_sorted1, repeat=2)):\n",
    "     dist[i] = editdistance.eval(*x)\n",
    "dist_df = pd.DataFrame(dist.reshape(-1, rus_tweets_sorted1.shape[0]))\n",
    "mean_dist = dist_df.mean()\n",
    "mean_dist.mean()"
   ]
  },
  {
   "cell_type": "code",
   "execution_count": 11,
   "metadata": {},
   "outputs": [
    {
     "data": {
      "text/plain": [
       "76.03125"
      ]
     },
     "execution_count": 11,
     "metadata": {},
     "output_type": "execute_result"
    }
   ],
   "source": [
    "#page 32 has more data set info\n",
    "# find Lev distance for the user #2\n",
    "dist = np.empty(rus_tweets_sorted2.shape[0]**2, dtype=int)\n",
    "for i, x in enumerate(product(rus_tweets_sorted2, repeat=2)):\n",
    "     dist[i] = editdistance.eval(*x)\n",
    "dist_df = pd.DataFrame(dist.reshape(-1, rus_tweets_sorted2.shape[0]))\n",
    "mean_dist = dist_df.mean()\n",
    "mean_dist.mean()\n"
   ]
  },
  {
   "cell_type": "code",
   "execution_count": 13,
   "metadata": {},
   "outputs": [
    {
     "data": {
      "text/plain": [
       "94.25"
      ]
     },
     "execution_count": 13,
     "metadata": {},
     "output_type": "execute_result"
    }
   ],
   "source": [
    "dist = np.empty(rus_tweets_sorted3.shape[0]**2, dtype=int)\n",
    "for i, x in enumerate(product(rus_tweets_sorted3, repeat=2)):\n",
    "     dist[i] = editdistance.eval(*x)\n",
    "dist_df = pd.DataFrame(dist.reshape(-1, rus_tweets_sorted3.shape[0]))\n",
    "mean_dist = dist_df.mean()\n",
    "mean_dist.mean()\n"
   ]
  },
  {
   "cell_type": "code",
   "execution_count": null,
   "metadata": {},
   "outputs": [],
   "source": [
    "mean_edit = []\n",
    "for user in rus_user_list:\n",
    "    dist = np.empty(user.shape[0]**2, dtype=int)\n",
    "    for i, x in enumerate(product(user, repeat=2)):\n",
    "         dist[i] = editdistance.eval(*x)\n",
    "    dist_df = pd.DataFrame(dist.reshape(-1, user.shape[0]))\n",
    "    mean_dist = dist_df.mean()\n",
    "    mean_edit.append(mean_dist.mean())\n",
    "print(mean_edit)\n",
    "# Lev for 16\n",
    "#(98.90660460926716 + 99.0721426541758)/2    "
   ]
  },
  {
   "cell_type": "code",
   "execution_count": null,
   "metadata": {},
   "outputs": [],
   "source": []
  },
  {
   "cell_type": "code",
   "execution_count": null,
   "metadata": {},
   "outputs": [],
   "source": [
    "# Real Tweets Data Set\n",
    "real_tweets = pd.read_csv('/Users/Phillip/Downloads/cresci2017/datasets_full.csv/genuine_accounts.csv/tweets.csv', na_filter=False)\n",
    "real_tweets['user_id'] = real_tweets['user_id'].str.replace(' ','')\n",
    "real_tweets.fillna('')\n",
    "real_tweets.info()\n"
   ]
  },
  {
   "cell_type": "code",
   "execution_count": null,
   "metadata": {},
   "outputs": [],
   "source": [
    "# real_tweets['user_id'] = real_tweets['user_id'].astype(str).astype(int)\n",
    "# real_tweets['user_id'].tail()\n",
    "#real_tweets.info()\n",
    "real_tweets_sorted = real_tweets.sort_values(by=['user_id'])\n",
    "real_tweets_sorted = real_tweets_sorted['text']\n",
    "real_tweets_sorted = real_tweets_sorted.str.replace(' ','')\n",
    "real_tweets_sorted = real_tweets_sorted.str.replace('RT@','')\n"
   ]
  },
  {
   "cell_type": "code",
   "execution_count": null,
   "metadata": {},
   "outputs": [],
   "source": [
    "real_tweets_sorted.head()\n"
   ]
  },
  {
   "cell_type": "code",
   "execution_count": null,
   "metadata": {},
   "outputs": [],
   "source": [
    "real_tweets_sorted1 = real_tweets_sorted[981668:982560]\n",
    "real_tweets_sorted2 = real_tweets_sorted[982561:985677]\n",
    "real_tweets_sorted3 = real_tweets_sorted[985678:988132]\n",
    "real_tweets_sorted4 = real_tweets_sorted[988133:991368]\n",
    "real_tweets_sorted5 = real_tweets_sorted[991369:994578]\n",
    "real_tweets_sorted6 = real_tweets_sorted[994579:997773]\n",
    "real_tweets_sorted7 = real_tweets_sorted[997774:1000994]\n",
    "real_tweets_sorted8 = real_tweets_sorted[1000995:1004171]\n",
    "real_tweets_sorted9 = real_tweets_sorted[1004172:1007390]\n",
    "real_tweets_sorted10 = real_tweets_sorted[1007391:1010510]\n",
    "real_tweets_sorted11 = real_tweets_sorted[1010511:1013599]\n",
    "real_tweets_sorted12 = real_tweets_sorted[1013600:1013941]\n",
    "real_tweets_sorted13 = real_tweets_sorted[1013942:1017137]\n",
    "real_tweets_sorted14 = real_tweets_sorted[1017138:1019436]\n",
    "real_tweets_sorted15 = real_tweets_sorted[1019437:1022622]\n",
    "real_tweets_sorted16 = real_tweets_sorted[1022623:1025845]\n",
    "real_tweets_sorted17 = real_tweets_sorted[1025846:1029038]\n",
    "real_tweets_sorted18 = real_tweets_sorted[1029039:1032277]\n",
    "real_tweets_sorted19 = real_tweets_sorted[1032278:1035441]\n",
    "real_tweets_sorted20 = real_tweets_sorted[1035442:1036606]\n",
    "real_tweets_sorted21 = real_tweets_sorted[1036607:1039781]\n",
    "real_tweets_sorted22 = real_tweets_sorted[1039782:1042953]\n",
    "real_tweets_sorted23 = real_tweets_sorted[1042954:1045336]\n",
    "real_tweets_sorted24 = real_tweets_sorted[1045337:1045417]\n",
    "real_tweets_sorted25 = real_tweets_sorted[1045418:1048574]\n"
   ]
  },
  {
   "cell_type": "code",
   "execution_count": null,
   "metadata": {},
   "outputs": [],
   "source": [
    "dist = np.empty(real_tweets_sorted1.shape[0]**2, dtype=int)\n",
    "for i, x in enumerate(product(real_tweets_sorted1, repeat=2)):\n",
    " dist[i] = editdistance.eval(*x)\n",
    "dist_df = pd.DataFrame(dist.reshape(-1, real_tweets_sorted1.shape[0]))\n",
    "mean_dist = dist_df.mean()\n",
    "mean_dist.mean()\n",
    "#stopped at in[95]"
   ]
  }
 ],
 "metadata": {
  "kernelspec": {
   "display_name": "Python 3",
   "language": "python",
   "name": "python3"
  },
  "language_info": {
   "codemirror_mode": {
    "name": "ipython",
    "version": 3
   },
   "file_extension": ".py",
   "mimetype": "text/x-python",
   "name": "python",
   "nbconvert_exporter": "python",
   "pygments_lexer": "ipython3",
   "version": "3.8.3"
  }
 },
 "nbformat": 4,
 "nbformat_minor": 4
}
