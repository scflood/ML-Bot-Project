{
 "cells": [
  {
   "cell_type": "code",
   "execution_count": 62,
   "metadata": {},
   "outputs": [
    {
     "data": {
      "text/plain": [
       "'C:\\\\Users\\\\seandesktop\\\\Desktop\\\\Schoolin\\\\Machine Learning\\\\Project bots\\\\datasets_full.csv'"
      ]
     },
     "execution_count": 62,
     "metadata": {},
     "output_type": "execute_result"
    }
   ],
   "source": [
    "import pandas as pd\n",
    "import numpy as np\n",
    "import os\n",
    "import Levenshtein as Lev\n",
    "from sklearn.utils import shuffle\n",
    "import datetime as dt\n",
    "import editdistance\n",
    "#os.chdir(\"datasets_full.csv\")\n",
    "os.getcwd()\n",
    "#os.listdir()"
   ]
  },
  {
   "cell_type": "markdown",
   "metadata": {},
   "source": [
    "### Import Data"
   ]
  },
  {
   "cell_type": "markdown",
   "metadata": {},
   "source": [
    "Users.csv contains account information for 453 Twitter Users who were identified as bots"
   ]
  },
  {
   "cell_type": "code",
   "execution_count": 36,
   "metadata": {},
   "outputs": [
    {
     "name": "stdout",
     "output_type": "stream",
     "text": [
      "<class 'pandas.core.frame.DataFrame'>\n",
      "RangeIndex: 453 entries, 0 to 452\n",
      "Data columns (total 15 columns):\n",
      " #   Column            Non-Null Count  Dtype \n",
      "---  ------            --------------  ----- \n",
      " 0   id                453 non-null    int32 \n",
      " 1   location          453 non-null    object\n",
      " 2   name              453 non-null    object\n",
      " 3   followers_count   453 non-null    int32 \n",
      " 4   statuses_count    453 non-null    int32 \n",
      " 5   time_zone         453 non-null    object\n",
      " 6   verified          453 non-null    object\n",
      " 7   lang              453 non-null    object\n",
      " 8   screen_name       453 non-null    object\n",
      " 9   description       453 non-null    object\n",
      " 10  created_at        453 non-null    object\n",
      " 11  favourites_count  453 non-null    int32 \n",
      " 12  friends_count     453 non-null    int32 \n",
      " 13  listed_count      453 non-null    object\n",
      " 14  knownbot          453 non-null    int64 \n",
      "dtypes: int32(5), int64(1), object(9)\n",
      "memory usage: 44.4+ KB\n"
     ]
    }
   ],
   "source": [
    "#load up the russian bots\n",
    "rus_users = pd.read_csv('users.csv',\n",
    "na_filter=False)\n",
    "rus_users.fillna('')\n",
    "\n",
    "rus_users[['id','followers_count','statuses_count','favourites_count','friends_count']] =rus_users[['id','followers_count','statuses_count','favourites_count','friends_count']].apply(pd.to_numeric)\n",
    "rus_users['id'] = rus_users['id'].fillna(0).astype(int)\n",
    "rus_users['followers_count'] = rus_users['followers_count'].fillna(0).astype(int)\n",
    "rus_users['statuses_count'] = rus_users['statuses_count'].fillna(0).astype(int)\n",
    "rus_users['favourites_count'] = rus_users['favourites_count'].fillna(0).astype(int)\n",
    "rus_users['friends_count'] = rus_users['friends_count'].fillna(0).astype(int)\n",
    "rus_users.fillna('')\n",
    "\n",
    "rus_users = rus_users.replace(np.nan, '', regex=True)\n",
    "rus_users['knownbot'] = 1\n",
    "\n",
    "rus_users.info()"
   ]
  },
  {
   "cell_type": "markdown",
   "metadata": {},
   "source": [
    "Now we load up the other classes of bots. These classes are:\n",
    "\n",
    " - Fake followers\n",
    " - Traditional spambots 1\n",
    " - Traditional spambots 2\n",
    " - Traditional spambots 3\n",
    " - Social spambots 1\n",
    " - Social spambots 2\n",
    " - Social spambots 3\n",
    "\n",
    "Details about the different types of bots can be found in the attached paper, Bot or Not"
   ]
  },
  {
   "cell_type": "code",
   "execution_count": 37,
   "metadata": {},
   "outputs": [],
   "source": [
    "#load up the other types of bots\n",
    "fake_followers = pd.read_csv('fake_followers.csv/users.csv')\n",
    "fake_followers.fillna('')\n",
    "\n",
    "trad_spam_1 = pd.read_csv('traditional_spambots_1.csv/users.csv')\n",
    "trad_spam_2 = pd.read_csv('traditional_spambots_2.csv/users.csv')\n",
    "trad_spam_3 = pd.read_csv('traditional_spambots_3.csv/users.csv')\n",
    "#trad_spam_4 = pd.read_csv('social_spambots_4.csv/users.csv')\n",
    "trad_spam_1 = trad_spam_1.fillna('')\n",
    "trad_spam_2 = trad_spam_2.fillna('')\n",
    "trad_spam_3 = trad_spam_3.fillna('')\n",
    "#trad_spam_4 = trad_spam_4.fillna('')\n",
    "\n",
    "social_spam_1 = pd.read_csv('social_spambots_1.csv/users.csv')\n",
    "social_spam_2 = pd.read_csv('social_spambots_2.csv/users.csv')\n",
    "social_spam_3 = pd.read_csv('social_spambots_3.csv/users.csv')\n",
    "social_spam_1 = social_spam_1.fillna('')\n",
    "social_spam_2 = social_spam_2.fillna('')\n",
    "social_spam_3 = social_spam_3.fillna('')\n",
    "\n",
    "fake_followers['knownbot'] = 1\n",
    "trad_spam_1['knownbot'] = 1\n",
    "trad_spam_2['knownbot'] = 1\n",
    "trad_spam_3['knownbot'] = 1\n",
    "#trad_spam_4['knownbot'] = 1\n",
    "social_spam_1['knownbot'] = 1\n",
    "social_spam_2['knownbot'] = 1\n",
    "social_spam_3['knownbot'] = 1\n"
   ]
  },
  {
   "cell_type": "markdown",
   "metadata": {},
   "source": [
    "We now load up users verified as genuine"
   ]
  },
  {
   "cell_type": "code",
   "execution_count": 38,
   "metadata": {},
   "outputs": [],
   "source": [
    "# load up real users\n",
    "real = pd.read_csv('genuine_accounts.csv/users.csv')\n",
    "real = real.fillna('')\n",
    "real['knownbot'] = 0"
   ]
  },
  {
   "cell_type": "code",
   "execution_count": 60,
   "metadata": {},
   "outputs": [],
   "source": [
    "all_trad_spam = pd.concat([trad_spam_1,trad_spam_2,trad_spam_3])\n",
    "all_social_spambots = pd.concat([social_spam_1,social_spam_2,social_spam_3])\n",
    "all_bots = pd.concat([all_trad_spam,all_social_spambots,fake_followers])\n",
    "\n",
    "#have two data frames, one for all accounts, one for only real vs russian\n",
    "\n",
    "df_all = pd.concat([real, all_bots])\n",
    "df_all.head()\n",
    "\n",
    "df_real_vs_rus = pd.concat([real, rus_users])\n",
    "df_real_vs_rus = shuffle(df_real_vs_rus)"
   ]
  },
  {
   "cell_type": "markdown",
   "metadata": {},
   "source": [
    "_____________\n",
    "### Scoring\n",
    "We are first going to recreate the paper's findings with russian bots, but without Levantshine distance, as it is computationally intractable to calculate edit distance on a meaningful scale"
   ]
  },
  {
   "cell_type": "code",
   "execution_count": 61,
   "metadata": {},
   "outputs": [],
   "source": [
    "score = pd.DataFrame()\n",
    "score['id'] = df_real_vs_rus['id']"
   ]
  },
  {
   "cell_type": "markdown",
   "metadata": {},
   "source": [
    "Now we apply scoring functions identified by the original researchers to correspond to variables that are relevant to calculating whether an account represents a bot or not. Note that each scoring function, in and of its self, does not indidcate that account is a bot. These variables are used to put important numerical values in a form that can be used with various ml techniques."
   ]
  },
  {
   "cell_type": "code",
   "execution_count": 41,
   "metadata": {},
   "outputs": [],
   "source": [
    "#rewrote their scoring functions so it makes sense\n",
    "\n",
    "# Does 1 mean a bot, does 0 mean a bot\n",
    "# I have no idea, does it even matter? Should it be 1 and -1?\n",
    "# I am confused\n",
    "\n",
    "def scoringLang (row):\n",
    "    return 1 if row['lang'] == 'en' else 0\n",
    "\n",
    "def scoringPic (row):\n",
    "    return 1 if row['profile_image_url'] == '' else 0\n",
    "\n",
    "def scoringName (row):\n",
    "    return 1 if row['name'] == '' else 0\n",
    "\n",
    "def scoringFollower30 (row):\n",
    "    return 1 if row['followers_count'] < 30 else 0\n",
    "\n",
    "def scoringGeo (row):\n",
    "    return 1 if row['geo_enabled'] == '' else 0\n",
    "\n",
    "def scoringBanner (row):\n",
    "    return 0 if row['profile_banner_url'] == '' else 1\n",
    "\n",
    "def scoringStatus50 (row):\n",
    "    return 0 if row['statuses_count'] > 50 else 1\n",
    "\n",
    "def scoringTwiceFollow (row):\n",
    "    return 0 if 2*row['followers_count'] >= row['friends_count'] else 1\n",
    "\n",
    "def scoringFriends (row):\n",
    "    return 1 if row['friends_count'] > 1000 else 0\n",
    "\n",
    "def scoringStatusCount20 (row):\n",
    "    return 1 if row['statuses_count'] < 20 else 0\n",
    "\n",
    "def scoringDefaultPic (row):\n",
    "    return 0 if row['default_profile_image'] == '' else 1\n",
    "\n",
    "def scoringStatusCountAll (row):\n",
    "    return 1 if row['statuses_count'] == 0 else 0\n",
    "\n",
    "def scoringFriendFollow50 (row):\n",
    "    return 1 if 50*row['followers_count'] <= row['friends_count'] else 0\n",
    "\n",
    "def scoringFriendFollow100 (row):\n",
    "    return 1 if 100*row['followers_count'] <= row['friends_count'] else 0\n",
    "\n",
    "def scoringDesc (row):\n",
    "    return 1 if row['description'] == '' else 0\n",
    "\n",
    "def scoringBot (row):\n",
    "    return 1 if row['knownbot'] == 1 else 0\n",
    "\n",
    "scoringFuncs = {\n",
    "    scoringLang: 'lang-en',\n",
    "    scoringPic: 'profile_pic',\n",
    "    scoringName: 'has_screen_name',\n",
    "    scoringFollower30: '30followers',\n",
    "    scoringGeo: 'geoloc',\n",
    "    scoringBanner: 'banner_link',\n",
    "    scoringStatus50: '50tweets',\n",
    "    scoringTwiceFollow: 'twice_num_followers',\n",
    "    scoringFriends: '1000friends',\n",
    "    scoringStatusCount20: '20tweets', #there was a type in their code\n",
    "    scoringDefaultPic: 'profile_pic',\n",
    "    scoringStatusCountAll: 'NeverTweeted',\n",
    "    scoringFriendFollow50: 'fifty_FriendsFollowersRatio',\n",
    "    scoringFriendFollow100: 'hundred_FriendsFollowersRatio',\n",
    "    scoringDesc: 'has_description',\n",
    "    scoringBot: 'knownbot',\n",
    "}"
   ]
  },
  {
   "cell_type": "markdown",
   "metadata": {},
   "source": [
    "Now we apply the scoring functions and append the results to a dataframe"
   ]
  },
  {
   "cell_type": "code",
   "execution_count": 42,
   "metadata": {},
   "outputs": [],
   "source": [
    "for scoring in scoringFuncs.keys():\n",
    "    df_real_vs_rus.apply (lambda row: scoring (row),axis=1)\n",
    "    df_real_vs_rus['score'] = df_real_vs_rus.apply (lambda row: scoring (row),axis=1)\n",
    "    df_real_vs_rus['score'].isnull().values.sum()\n",
    "    scoreLabel = scoringFuncs[scoring]\n",
    "    score[scoreLabel] = df_real_vs_rus.apply (lambda row: scoring (row),axis=1)\n",
    "    #print(score[scoreLabel].head())"
   ]
  },
  {
   "cell_type": "markdown",
   "metadata": {},
   "source": [
    "____\n",
    "### Baseline\n",
    "Below the baseline is calculated by calculating the proportion of accounts in our data set that correspond to a bot. This baseline is representative of a naive bot prediction, and if applied it would classify ~11% of the accounts as a bot"
   ]
  },
  {
   "cell_type": "code",
   "execution_count": 43,
   "metadata": {},
   "outputs": [
    {
     "name": "stdout",
     "output_type": "stream",
     "text": [
      "Our Baseline is  0.11535523300229182\n",
      "The scores of our data is of shape  (3927, 16)\n"
     ]
    }
   ],
   "source": [
    "dd = score['knownbot']\n",
    "bots=0\n",
    "nonbots=0\n",
    "for i in dd:\n",
    "    if i==1:\n",
    "        bots+=1\n",
    "    else:\n",
    "        nonbots+=1\n",
    "print('Our Baseline is ', bots/(nonbots+bots))\n",
    "\n",
    "print('The scores of our data is of shape ',score.shape)"
   ]
  },
  {
   "cell_type": "markdown",
   "metadata": {},
   "source": [
    "____\n",
    "### Organize data"
   ]
  },
  {
   "cell_type": "code",
   "execution_count": 44,
   "metadata": {},
   "outputs": [
    {
     "name": "stdout",
     "output_type": "stream",
     "text": [
      "ShuffleSplit(n_splits=3, random_state=None, test_size=0.2, train_size=None)\n"
     ]
    }
   ],
   "source": [
    "#organize data\n",
    "from sklearn.model_selection import ShuffleSplit\n",
    "if 'knownbot' in score:\n",
    "    y = score['knownbot'].values # get the labels we want\n",
    "    del score['knownbot'] # get rid of the class label\n",
    "    X = score.values # use everything else to predict!\n",
    "    \n",
    "num_cv_iterations = 3\n",
    "num_instances = len(y)\n",
    "cv_object = ShuffleSplit(n_splits=num_cv_iterations,\n",
    " test_size = 0.2)\n",
    "print(cv_object)"
   ]
  },
  {
   "cell_type": "markdown",
   "metadata": {},
   "source": [
    "__________\n",
    "### Apply ML algorithms\n",
    "Now we apply logistic regression on the dataframe that contains scoring information for russian bots and genuine users"
   ]
  },
  {
   "cell_type": "code",
   "execution_count": 45,
   "metadata": {},
   "outputs": [
    {
     "name": "stdout",
     "output_type": "stream",
     "text": [
      "====Iteration 0  ====\n",
      "accuracy 0.94529262086514\n",
      "confusion matrix\n",
      " [[687   0]\n",
      " [ 43  56]]\n",
      "====Iteration 1  ====\n",
      "accuracy 0.9427480916030534\n",
      "confusion matrix\n",
      " [[698   0]\n",
      " [ 45  43]]\n",
      "====Iteration 2  ====\n",
      "accuracy 0.9491094147582697\n",
      "confusion matrix\n",
      " [[696   0]\n",
      " [ 40  50]]\n"
     ]
    }
   ],
   "source": [
    "from sklearn.linear_model import LogisticRegression\n",
    "from sklearn import metrics as mt\n",
    "\n",
    "lr_clf = LogisticRegression(penalty='l2', C=1.0, class_weight=None)\n",
    "\n",
    "iter_num=0\n",
    "\n",
    "#linear regregression, and with X_train, y_train, X_test, and y_test defined\n",
    "\n",
    "for train_indices, test_indices in cv_object.split(X,y):\n",
    "    X_train = X[train_indices]\n",
    "    y_train = y[train_indices]\n",
    "\n",
    "    X_test = X[test_indices]\n",
    "    y_test = y[test_indices]\n",
    "    \n",
    "    lr_clf.fit(X_train,y_train) # train object\n",
    "    y_hat = lr_clf.predict(X_test) # get test set precitions\n",
    "    \n",
    "    acc = mt.accuracy_score(y_test,y_hat)\n",
    "    conf = mt.confusion_matrix(y_test,y_hat)\n",
    "    print(\"====Iteration\",iter_num,\" ====\")\n",
    "    print(\"accuracy\", acc )\n",
    "    print(\"confusion matrix\\n\",conf)\n",
    "    iter_num+=1"
   ]
  },
  {
   "cell_type": "markdown",
   "metadata": {},
   "source": [
    "A support vector machine is defined below and used for classification"
   ]
  },
  {
   "cell_type": "code",
   "execution_count": 48,
   "metadata": {},
   "outputs": [
    {
     "name": "stdout",
     "output_type": "stream",
     "text": [
      "accuracy: 0.9987277353689568\n",
      "[[692   0]\n",
      " [  1  93]]\n"
     ]
    }
   ],
   "source": [
    "from sklearn.preprocessing import StandardScaler\n",
    "scl_obj = StandardScaler()\n",
    "\n",
    "#randomly split the data once again\n",
    "\n",
    "for train_indices, test_indices in cv_object.split(X,y):\n",
    "\n",
    "    X_train = X[train_indices]\n",
    "    y_train = y[train_indices]\n",
    "\n",
    "    X_test = X[test_indices]\n",
    "    y_test = y[test_indices]\n",
    "\n",
    "scl_obj.fit(X_train)\n",
    "X_train_scaled = scl_obj.transform(X_train) # apply to training\n",
    "X_test_scaled = scl_obj.transform(X_test)\n",
    "\n",
    "#using a svm, we can now test our data\n",
    "\n",
    "from sklearn.svm import SVC\n",
    "\n",
    "# train the model just as before\n",
    "svm_clf = SVC(C=0.5, kernel='rbf', degree=3, gamma='auto') # get object\n",
    "svm_clf.fit(X_train_scaled, y_train) # train object\n",
    "y_hat = svm_clf.predict(X_test_scaled) # get test set precitions\n",
    "acc = mt.accuracy_score(y_test,y_hat)\n",
    "conf = mt.confusion_matrix(y_test,y_hat)\n",
    "print('accuracy:', acc )\n",
    "print(conf)"
   ]
  },
  {
   "cell_type": "markdown",
   "metadata": {},
   "source": [
    "And a decision tree is applied"
   ]
  },
  {
   "cell_type": "code",
   "execution_count": 49,
   "metadata": {},
   "outputs": [
    {
     "name": "stdout",
     "output_type": "stream",
     "text": [
      "------------Dtree-------\n",
      "Precision, no lev =  1.0\n",
      "Recall, no lev =  1.0\n",
      "Accuracy, no lev =  1.0\n",
      "[[692   0]\n",
      " [  0  94]]\n"
     ]
    }
   ],
   "source": [
    "\n",
    "\n",
    "#UNDER PROGRESS, tried a Decision Tree and its working to well\n",
    "from sklearn import tree\n",
    "clf = tree.DecisionTreeClassifier()\n",
    "clf = clf.fit(X_train, y_train)\n",
    "from sklearn.metrics import accuracy_score as acc, precision_score as prec\n",
    "from sklearn.metrics import confusion_matrix, recall_score as rec\n",
    "\n",
    "def metrics_calc(y_test, y_pred):\n",
    "    con_mat = confusion_matrix(y_test, y_pred)\n",
    "    print(\"------------Dtree-------\")\n",
    "    print('Precision, no lev = ', prec(y_test, y_pred))\n",
    "    print('Recall, no lev = ', rec(y_test, y_pred))\n",
    "    print('Accuracy, no lev = ', acc(y_test, y_pred))\n",
    "    return con_mat\n",
    "\n",
    "y_pred = clf.predict(X_test)\n",
    "con_mat = metrics_calc(y_test, y_pred)\n",
    "print(con_mat)"
   ]
  },
  {
   "cell_type": "markdown",
   "metadata": {},
   "source": [
    "And finally we apply an ensemble method"
   ]
  },
  {
   "cell_type": "code",
   "execution_count": 14,
   "metadata": {},
   "outputs": [],
   "source": [
    "##Ensemble Class from homework\n",
    "\n",
    "from time import time\n",
    "from sklearn.metrics import explained_variance_score, precision_score\n",
    "\n",
    "class EnsembleTest:\n",
    "    \"\"\" Test multiple model performance \"\"\"\n",
    "    \n",
    "    def __init__(self, X_train, y_train, X_test, y_test, _type='regression'):\n",
    "        \"\"\"\n",
    "        initialize data and type of problem\n",
    "        :param X_train:\n",
    "        :param y_train:\n",
    "        :param X_test:\n",
    "        :param y_test:\n",
    "        :param _type: regression or classification\n",
    "        \"\"\"\n",
    "        self.scores = {}\n",
    "        self.execution_time = {}\n",
    "        self.metric = {}\n",
    "        self.X_train = X_train\n",
    "        self.y_train = y_train\n",
    "        self.X_test = X_test\n",
    "        self.y_test = y_test\n",
    "        self.type = _type\n",
    "        if _type == 'regression':\n",
    "            self.score_name = 'R^2 score' \n",
    "            self.metric_name = 'Explained variance' \n",
    "        else:\n",
    "            self.score_name = 'Mean accuracy score'\n",
    "            self.metric_name = 'Precision'\n",
    "            \n",
    "    def fit_model(self, model, name):\n",
    "        \"\"\"\n",
    "        TODO:\n",
    "        - Fit the model on train data.\n",
    "        - Store execution time required to fit.\n",
    "        - Store scores on test data\n",
    "        - Predict on test data\n",
    "        \n",
    "        Each model passed as parameter has member functions of the following form:\n",
    "          model.fit(x_train, y_train)\n",
    "          model.score(x_test, y_test) \n",
    "          model.predict(x_test)\n",
    "        \n",
    "        :param model: model\n",
    "        :param name: name of model\n",
    "        \"\"\"        \n",
    "        time_start = time()\n",
    "        model.fit(self.X_train, self.y_train)\n",
    "        time_end = time()\n",
    "        \n",
    "        self.execution_time[name] = time_end - time_start\n",
    "        \n",
    "        self.scores[name] = model.score(self.X_test, self.y_test) \n",
    "        predict = model.predict(self.X_test)\n",
    "        \n",
    "        if self.type == 'regression':\n",
    "            self.metric[name] = explained_variance_score(self.y_test, predict)\n",
    "        elif self.type == 'classification':\n",
    "            self.metric[name] = precision_score(self.y_test, predict)\n",
    "\n",
    "    def print_result(self):\n",
    "        \"\"\"\n",
    "            print results for all models trained and tested.\n",
    "        \"\"\"\n",
    "        models_cross = pd.DataFrame({\n",
    "            'Model'         : list(self.metric.keys()),\n",
    "             self.score_name     : list(self.scores.values()),\n",
    "             self.metric_name    : list(self.metric.values()),\n",
    "            'Execution time': list(self.execution_time.values())})\n",
    "        print(models_cross.sort_values(by=self.score_name, ascending=False))\n",
    "\n",
    "    def plot_metric(self):\n",
    "        \"\"\"\n",
    "         There are 3 metrics for each type of experiment: \n",
    "             time, metric score, scores\n",
    "         Produce a bar graph for each of the above metrics\n",
    "         Each bar graph should have results from all experiments \n",
    "             of the same type side by side\n",
    "         \n",
    "         Note: The Metric name and score name depend on the type of experiment \n",
    "             (regression or classification) \n",
    "        \"\"\"\n",
    "        metrics = ['time', 'metric score', 'scores']\n",
    "        index = np.arange(len(metrics))\n",
    "        values = []\n",
    "        \n",
    "        for name in self.metric.keys():\n",
    "            vals = []\n",
    "            vals.append(name)\n",
    "            vals.append(self.execution_time[name])\n",
    "            vals.append(self.metric[name])\n",
    "            vals.append(self.scores[name])\n",
    "            values.append(vals)\n",
    "        \n",
    "        #print('VALUES', values)\n",
    "        fig, ax = plt.subplots()\n",
    "        p1 = ax.bar(index - .25/1.5, values[0][1:], .25, label=values[0][0])\n",
    "        p2 = ax.bar( index, values[1][1:], .25, label=values[1][0])\n",
    "        p3 = ax.bar(index + .25/1.5, values[2][1:], .25, label=values[2][0])\n",
    "        ax.set_ylabel('scores')\n",
    "        ax.set_xticks(index)\n",
    "        ax.set_xticklabels(metrics)\n",
    "        \n",
    "        ax.set_title(\"Performance of %s classifiers\" % (self.type,))\n",
    "        ax.legend()"
   ]
  },
  {
   "cell_type": "code",
   "execution_count": 15,
   "metadata": {},
   "outputs": [
    {
     "name": "stdout",
     "output_type": "stream",
     "text": [
      "Decision Tree Handeled\n",
      "RFR Handeled\n",
      "ABR Handeled\n"
     ]
    }
   ],
   "source": [
    "ensemble_handler = EnsembleTest(\n",
    "    X_train, y_train, X_test, y_test, _type='regression')\n",
    "\n",
    "from sklearn.tree import DecisionTreeRegressor\n",
    "DTR = DecisionTreeRegressor(random_state=0)\n",
    "ensemble_handler.fit_model(DTR, 'decision_tree')\n",
    "print('Decision Tree Handeled')\n",
    "\n",
    "from sklearn.ensemble import RandomForestRegressor\n",
    "RFR = RandomForestRegressor(random_state=0, n_estimators=1000)\n",
    "ensemble_handler.fit_model(RFR, 'random_forest')\n",
    "print(\"RFR Handeled\")\n",
    "\n",
    "from sklearn.ensemble import AdaBoostRegressor\n",
    "ABR = AdaBoostRegressor(random_state=0, n_estimators=1000)\n",
    "ensemble_handler.fit_model(ABR, 'ada_boost')\n",
    "print(\"ABR Handeled\")"
   ]
  },
  {
   "cell_type": "markdown",
   "metadata": {},
   "source": [
    "________\n",
    "### Results"
   ]
  },
  {
   "cell_type": "code",
   "execution_count": 17,
   "metadata": {},
   "outputs": [
    {
     "data": {
      "image/png": "[encoded data removed]",
      "text/plain": [
       "<Figure size 432x288 with 1 Axes>"
      ]
     },
     "metadata": {
      "needs_background": "light"
     },
     "output_type": "display_data"
    }
   ],
   "source": [
    "from matplotlib import pyplot as plt\n",
    "ensemble_handler.plot_metric()\n",
    "#IGNORE 'TIME' LABEL WE DONT NEED IT"
   ]
  },
  {
   "cell_type": "code",
   "execution_count": 18,
   "metadata": {},
   "outputs": [
    {
     "name": "stdout",
     "output_type": "stream",
     "text": [
      "           Model  R^2 score  Explained variance  Execution time\n",
      "0  decision_tree   1.000000            1.000000        0.000998\n",
      "2      ada_boost   1.000000            1.000000        0.002992\n",
      "1  random_forest   0.999991            0.999991        1.322706\n"
     ]
    }
   ],
   "source": [
    "ensemble_handler.print_result()"
   ]
  },
  {
   "cell_type": "markdown",
   "metadata": {},
   "source": [
    "As the above results indicate, the models employed for differentiating between Russian bots and genuince users are extremely accurate. At first glance such results appear too good to be true, and that is likely the case here. \n",
    "\n",
    "The issue is that the Russian bots present in our dataset represent the subset of the entire number of bots that are easy to detect. That is, these bots are representative of the low hanging fruit, as many bots were never detected, were not added to the NBC dataset, or were removed by Twitter before they could be added. Unfortunately twitter does not retain data pertaining to accounts known to be fraudulent, which makes it difficult to make a dataset of more sophisticated bots. \n",
    "\n",
    "Below, we attempt to identify the other classes of bots present in our data set, as the vast majority of bots on Twitter exists for the purposes of promoting a product, directing traffic to a website, being a fake follower, etc. "
   ]
  },
  {
   "cell_type": "markdown",
   "metadata": {},
   "source": [
    "> Note on Twitter data retention and datasets:\n",
    ">\n",
    ">> \"Twitter initially allowed any Twitter data collected in the proper\n",
    "way to be shared as a complete data set. Twitter has now amended its policies to only\n",
    "allow the sharing of account or tweet IDs as a data set. This requires researchers to\n",
    "populate the data using their own API key in a process known as “rehydrating”. While\n",
    "this provides more protection for users to have their information removed from\n",
    "Twitter and not appear in future data sets that are “rehydrated” after the date a user\n",
    "has deleted their accounts or tweets, it complicates matters for researchers. \" (Supervised Machine Learning Bot Detection\n",
    "Techniques to Identify Social Twitter Bots, 2018)"
   ]
  },
  {
   "cell_type": "markdown",
   "metadata": {},
   "source": [
    "***************"
   ]
  },
  {
   "cell_type": "markdown",
   "metadata": {},
   "source": [
    "### Data 2\n",
    "Now we create a dataframe including the other types of bots, which are:\n",
    " - Fake followers\n",
    " - Traditional spambots 1\n",
    " - Traditional spambots 2\n",
    " - Traditional spambots 3\n",
    " - Social spambots 1\n",
    " - Social spambots 2\n",
    " - Social spambots 3"
   ]
  },
  {
   "cell_type": "code",
   "execution_count": 52,
   "metadata": {},
   "outputs": [],
   "source": [
    "##USING THE df_all dataframe\n",
    "score_all = pd.DataFrame()\n",
    "score_all['id'] = df_all['id']\n",
    "\n",
    "for scoring in scoringFuncs.keys():\n",
    "    df_all.apply (lambda row: scoring (row),axis=1)\n",
    "    df_all['score'] = df_all.apply (lambda row: scoring (row),axis=1)\n",
    "    df_all['score'].isnull().values.sum()\n",
    "    scoreLabel = scoringFuncs[scoring]\n",
    "    score_all[scoreLabel] = df_all.apply (lambda row: scoring (row),axis=1)\n",
    "    #print(score[scoreLabel].head())"
   ]
  },
  {
   "cell_type": "markdown",
   "metadata": {},
   "source": [
    "______\n",
    "### Baseline\n",
    "Below the baseline is calculated by calculating the proportion of accounts in our data set that correspond to a bot. This baseline is representative of a naive bot prediction, and if applied it would classify ~11% of the accounts as one of the above listed varieties of non Russian bot"
   ]
  },
  {
   "cell_type": "code",
   "execution_count": 53,
   "metadata": {},
   "outputs": [
    {
     "name": "stdout",
     "output_type": "stream",
     "text": [
      "Our Baseline is  0.7376132930513595\n",
      "The scores of our data is of shape  (13240, 16)\n"
     ]
    }
   ],
   "source": [
    "dd = score_all['knownbot']\n",
    "bots=0\n",
    "nonbots=0\n",
    "\n",
    "for i in dd:\n",
    "    if i==1:\n",
    "        bots+=1\n",
    "    else:\n",
    "        nonbots+=1\n",
    "        \n",
    "print('Our Baseline is ', bots/(nonbots+bots))\n",
    "print('The scores of our data is of shape ',score_all.shape)"
   ]
  },
  {
   "cell_type": "code",
   "execution_count": 54,
   "metadata": {},
   "outputs": [
    {
     "name": "stdout",
     "output_type": "stream",
     "text": [
      "ShuffleSplit(n_splits=3, random_state=None, test_size=0.2, train_size=None)\n"
     ]
    }
   ],
   "source": [
    "if 'knownbot' in score_all:\n",
    "    y = score_all['knownbot'].values # get the labels we want\n",
    "    del score_all['knownbot'] # get rid of the class label\n",
    "    X = score_all.values # use everything else to predict!\n",
    "    \n",
    "num_cv_iterations = 3\n",
    "num_instances = len(y)\n",
    "cv_object = ShuffleSplit(n_splits=num_cv_iterations,\n",
    " test_size = 0.2)\n",
    "print(cv_object)"
   ]
  },
  {
   "cell_type": "markdown",
   "metadata": {},
   "source": [
    "_______\n",
    "### Apply ML algorithms\n",
    "Below logistic regression is implented, note that it does not outperform the baseline"
   ]
  },
  {
   "cell_type": "code",
   "execution_count": 55,
   "metadata": {},
   "outputs": [
    {
     "name": "stdout",
     "output_type": "stream",
     "text": [
      "====Iteration 0  ====\n",
      "accuracy 0.7356495468277946\n",
      "confusion matrix\n",
      " [[   0  700]\n",
      " [   0 1948]]\n",
      "====Iteration 1  ====\n",
      "accuracy 0.7303625377643505\n",
      "confusion matrix\n",
      " [[   0  714]\n",
      " [   0 1934]]\n",
      "====Iteration 2  ====\n",
      "accuracy 0.7360271903323263\n",
      "confusion matrix\n",
      " [[   0  699]\n",
      " [   0 1949]]\n"
     ]
    }
   ],
   "source": [
    "lr_clf = LogisticRegression(penalty='l2', C=1.0, class_weight=None)\n",
    "iter_num=0\n",
    "\n",
    "for train_indices, test_indices in cv_object.split(X,y):\n",
    "    X_train = X[train_indices]\n",
    "    y_train = y[train_indices]\n",
    "\n",
    "    X_test = X[test_indices]\n",
    "    y_test = y[test_indices]\n",
    "    \n",
    "    lr_clf.fit(X_train,y_train) # train object\n",
    "    y_hat = lr_clf.predict(X_test) # get test set precitions\n",
    "    \n",
    "    acc = mt.accuracy_score(y_test,y_hat)\n",
    "    conf = mt.confusion_matrix(y_test,y_hat)\n",
    "    print(\"====Iteration\",iter_num,\" ====\")\n",
    "    print(\"accuracy\", acc )\n",
    "    print(\"confusion matrix\\n\",conf)\n",
    "    iter_num+=1\n",
    "\n",
    "## The results here are also incredibly concerning, it literally is getting all false positives\n",
    "## I wonder if its because their sorting algo is busted\n",
    "## Or something else may be afoot"
   ]
  },
  {
   "cell_type": "code",
   "execution_count": 56,
   "metadata": {},
   "outputs": [
    {
     "name": "stdout",
     "output_type": "stream",
     "text": [
      "------------Dtree-------\n",
      "Precision, no lev =  0.9785166240409208\n",
      "Recall, no lev =  0.9815289892252437\n",
      "Accuracy, no lev =  0.9705438066465257\n",
      "[[ 657   42]\n",
      " [  36 1913]]\n"
     ]
    }
   ],
   "source": [
    "from sklearn.metrics import accuracy_score as acc, precision_score as prec\n",
    "\n",
    "clf = tree.DecisionTreeClassifier()\n",
    "clf = clf.fit(X_train, y_train)\n",
    "\n",
    "def metrics_calc(y_test, y_pred):\n",
    "    con_mat = confusion_matrix(y_test, y_pred)\n",
    "    print(\"------------Dtree-------\")\n",
    "    print('Precision, no lev = ', prec(y_test, y_pred))\n",
    "    print('Recall, no lev = ', rec(y_test, y_pred))\n",
    "    \n",
    "    print('Accuracy, no lev = ', acc(y_test, y_pred))\n",
    "    return con_mat\n",
    "\n",
    "y_pred = clf.predict(X_test)\n",
    "con_mat = metrics_calc(y_test, y_pred)\n",
    "print(con_mat)"
   ]
  },
  {
   "cell_type": "code",
   "execution_count": 57,
   "metadata": {},
   "outputs": [
    {
     "name": "stdout",
     "output_type": "stream",
     "text": [
      "DTR Handeled\n",
      "RFR Handeled\n",
      "ABR Handeled\n"
     ]
    }
   ],
   "source": [
    "ensemble_handler_all = EnsembleTest(\n",
    "    X_train, y_train, X_test, y_test, _type='regression')\n",
    "\n",
    "from sklearn.tree import DecisionTreeRegressor\n",
    "DTR = DecisionTreeRegressor(random_state=0)\n",
    "ensemble_handler_all.fit_model(DTR, 'decision_tree')\n",
    "print('DTR Handeled')\n",
    "\n",
    "from sklearn.ensemble import RandomForestRegressor\n",
    "RFR = RandomForestRegressor(random_state=0, n_estimators=1000)\n",
    "ensemble_handler_all.fit_model(RFR, 'random_forest')\n",
    "print(\"RFR Handeled\")\n",
    "\n",
    "from sklearn.ensemble import AdaBoostRegressor\n",
    "ABR = AdaBoostRegressor(random_state=0, n_estimators=1000)\n",
    "ensemble_handler_all.fit_model(ABR, 'ada_boost')\n",
    "print(\"ABR Handeled\")"
   ]
  },
  {
   "cell_type": "markdown",
   "metadata": {},
   "source": [
    "_______\n",
    "### Results 2"
   ]
  },
  {
   "cell_type": "code",
   "execution_count": 58,
   "metadata": {},
   "outputs": [
    {
     "data": {
      "image/png": "[encoded data removed]",
      "text/plain": [
       "<Figure size 432x288 with 1 Axes>"
      ]
     },
     "metadata": {
      "needs_background": "light"
     },
     "output_type": "display_data"
    }
   ],
   "source": [
    "ensemble_handler_all.plot_metric()"
   ]
  },
  {
   "cell_type": "code",
   "execution_count": 59,
   "metadata": {},
   "outputs": [
    {
     "name": "stdout",
     "output_type": "stream",
     "text": [
      "           Model  R^2 score  Explained variance  Execution time\n",
      "1  random_forest   0.899207            0.899259        7.964770\n",
      "0  decision_tree   0.854223            0.854259        0.013018\n",
      "2      ada_boost   0.766661            0.768232        0.102017\n"
     ]
    }
   ],
   "source": [
    "ensemble_handler_all.print_result()"
   ]
  },
  {
   "cell_type": "markdown",
   "metadata": {},
   "source": [
    "The results of the models generated for the purpose of differentiating between genuine accounts and non russian bots point towards the presence of a much more difficult problem. Logistic regression failed to outperform our baseline, where as adaboost only comes in ~ 3% above the baseline. Random forest was the hight performer, however it does not perform as high as we would like. The decision tree has a middling performance which is better than the baseline, but not suitable for deployment. "
   ]
  },
  {
   "cell_type": "code",
   "execution_count": null,
   "metadata": {},
   "outputs": [],
   "source": []
  }
 ],
 "metadata": {
  "kernelspec": {
   "display_name": "Python 3",
   "language": "python",
   "name": "python3"
  },
  "language_info": {
   "codemirror_mode": {
    "name": "ipython",
    "version": 3
   },
   "file_extension": ".py",
   "mimetype": "text/x-python",
   "name": "python",
   "nbconvert_exporter": "python",
   "pygments_lexer": "ipython3",
   "version": "3.8.3"
  }
 },
 "nbformat": 4,
 "nbformat_minor": 4
}
